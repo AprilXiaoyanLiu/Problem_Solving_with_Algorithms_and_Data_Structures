{
 "cells": [
  {
   "cell_type": "markdown",
   "metadata": {},
   "source": [
    "### Write two Python functions to find the minimum number in a list. The first function should compare each number to every other number on the list. O(n2)O(n2). The second function should be linear O(n)O(n)."
   ]
  },
  {
   "cell_type": "raw",
   "metadata": {},
   "source": [
    "task: find the min number of a list"
   ]
  },
  {
   "cell_type": "markdown",
   "metadata": {},
   "source": [
    "##### linear O(n)"
   ]
  },
  {
   "cell_type": "code",
   "execution_count": 11,
   "metadata": {
    "collapsed": true
   },
   "outputs": [],
   "source": [
    "def findmin(alist):\n",
    "    min_n = alist[0]\n",
    "    for i in range(len(alist)):\n",
    "        if alist[i] < min_n:\n",
    "            min_n = alist[i]\n",
    "        else:\n",
    "            min_n\n",
    "    return min_n"
   ]
  },
  {
   "cell_type": "code",
   "execution_count": 12,
   "metadata": {
    "collapsed": true
   },
   "outputs": [],
   "source": [
    "alist= [ 5,6,8,2,-1]"
   ]
  },
  {
   "cell_type": "code",
   "execution_count": 13,
   "metadata": {
    "collapsed": false
   },
   "outputs": [
    {
     "data": {
      "text/plain": [
       "-1"
      ]
     },
     "execution_count": 13,
     "metadata": {},
     "output_type": "execute_result"
    }
   ],
   "source": [
    "findmin(alist)"
   ]
  },
  {
   "cell_type": "markdown",
   "metadata": {},
   "source": [
    "##### linear O(n2)"
   ]
  },
  {
   "cell_type": "markdown",
   "metadata": {},
   "source": [
    "compare every number to every other number at least once"
   ]
  },
  {
   "cell_type": "code",
   "execution_count": 16,
   "metadata": {
    "collapsed": true
   },
   "outputs": [],
   "source": [
    "def finmin(alist):\n",
    "    min_n = alist[0]\n",
    "    for i in range(len(alist)):\n",
    "        for m in range(len(alist)):\n",
    "            if alist[i] <= alist[m]:\n",
    "                min_n = alist[i]\n",
    "            else:\n",
    "                min_n\n",
    "    return min_n"
   ]
  },
  {
   "cell_type": "code",
   "execution_count": 18,
   "metadata": {
    "collapsed": false
   },
   "outputs": [],
   "source": [
    "blist = [1,5,7,0,-3,8]"
   ]
  },
  {
   "cell_type": "code",
   "execution_count": 19,
   "metadata": {
    "collapsed": false
   },
   "outputs": [
    {
     "data": {
      "text/plain": [
       "-3"
      ]
     },
     "execution_count": 19,
     "metadata": {},
     "output_type": "execute_result"
    }
   ],
   "source": [
    "findmin(blist)"
   ]
  },
  {
   "cell_type": "markdown",
   "metadata": {},
   "source": [
    "video's methodology:"
   ]
  },
  {
   "cell_type": "code",
   "execution_count": 26,
   "metadata": {
    "collapsed": true
   },
   "outputs": [],
   "source": [
    "import time\n",
    "from random import randrange"
   ]
  },
  {
   "cell_type": "code",
   "execution_count": 22,
   "metadata": {
    "collapsed": true
   },
   "outputs": [],
   "source": [
    "def finmin(alist):\n",
    "    min_n = alist[0]\n",
    "    for i in alist:\n",
    "        issmallest = True\n",
    "        for m in alist:\n",
    "            if i > m:\n",
    "                issmallest = False\n",
    "        if issmallest:\n",
    "            min_n = i\n",
    "    return min_n"
   ]
  },
  {
   "cell_type": "code",
   "execution_count": 23,
   "metadata": {
    "collapsed": false
   },
   "outputs": [
    {
     "data": {
      "text/plain": [
       "-3"
      ]
     },
     "execution_count": 23,
     "metadata": {},
     "output_type": "execute_result"
    }
   ],
   "source": [
    "finmin(blist)"
   ]
  },
  {
   "cell_type": "code",
   "execution_count": 33,
   "metadata": {
    "collapsed": false
   },
   "outputs": [
    {
     "name": "stdout",
     "output_type": "stream",
     "text": [
      "40\n",
      "size: 1000 time: 0.000000\n",
      "285\n",
      "size: 2000 time: 0.000000\n",
      "20\n",
      "size: 3000 time: 0.001000\n",
      "27\n",
      "size: 4000 time: 0.000000\n",
      "27\n",
      "size: 5000 time: 0.000000\n",
      "17\n",
      "size: 6000 time: 0.000000\n",
      "26\n",
      "size: 7000 time: 0.000000\n",
      "39\n",
      "size: 8000 time: 0.000000\n",
      "12\n",
      "size: 9000 time: 0.001000\n",
      "16\n",
      "size: 10000 time: 0.001000\n"
     ]
    }
   ],
   "source": [
    "for listsize in range(1000,10001,1000):\n",
    "    alist = [randrange(100000) for x in range(listsize)]\n",
    "    start = time.time()\n",
    "    print(findmin(alist))\n",
    "    end = time.time()\n",
    "    print(\"size: %d time: %f\" % (listsize, end-start))"
   ]
  },
  {
   "cell_type": "code",
   "execution_count": null,
   "metadata": {
    "collapsed": true
   },
   "outputs": [],
   "source": []
  }
 ],
 "metadata": {
  "kernelspec": {
   "display_name": "Python 2",
   "language": "python",
   "name": "python2"
  },
  "language_info": {
   "codemirror_mode": {
    "name": "ipython",
    "version": 2
   },
   "file_extension": ".py",
   "mimetype": "text/x-python",
   "name": "python",
   "nbconvert_exporter": "python",
   "pygments_lexer": "ipython2",
   "version": "2.7.11"
  }
 },
 "nbformat": 4,
 "nbformat_minor": 0
}
